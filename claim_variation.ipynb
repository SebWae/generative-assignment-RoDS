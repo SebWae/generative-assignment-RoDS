{
 "cells": [
  {
   "cell_type": "code",
   "execution_count": null,
   "id": "4b9401b6",
   "metadata": {},
   "outputs": [],
   "source": [
    "import nltk\n",
    "import pandas as pd\n",
    "\n",
    "from collections import Counter\n",
    "from nltk.corpus import stopwords\n",
    "from nltk.stem import PorterStemmer"
   ]
  },
  {
   "cell_type": "code",
   "execution_count": 67,
   "id": "d96ffb93",
   "metadata": {},
   "outputs": [
    {
     "name": "stderr",
     "output_type": "stream",
     "text": [
      "[nltk_data] Downloading package omw-1.4 to\n",
      "[nltk_data]     C:\\Users\\sebas\\AppData\\Roaming\\nltk_data...\n",
      "[nltk_data]   Package omw-1.4 is already up-to-date!\n",
      "[nltk_data] Downloading package punkt to\n",
      "[nltk_data]     C:\\Users\\sebas\\AppData\\Roaming\\nltk_data...\n",
      "[nltk_data]   Package punkt is already up-to-date!\n",
      "[nltk_data] Downloading package stopwords to\n",
      "[nltk_data]     C:\\Users\\sebas\\AppData\\Roaming\\nltk_data...\n",
      "[nltk_data]   Package stopwords is already up-to-date!\n"
     ]
    },
    {
     "data": {
      "text/plain": [
       "True"
      ]
     },
     "execution_count": 67,
     "metadata": {},
     "output_type": "execute_result"
    }
   ],
   "source": [
    "nltk.download('omw-1.4')\n",
    "nltk.download('punkt')\n",
    "nltk.download('stopwords')"
   ]
  },
  {
   "cell_type": "markdown",
   "id": "456c9163",
   "metadata": {},
   "source": [
    "## Variation in Claims\n",
    "This notebook investigates the variation of the generated claims."
   ]
  },
  {
   "cell_type": "code",
   "execution_count": 2,
   "id": "a199480a",
   "metadata": {},
   "outputs": [
    {
     "data": {
      "application/vnd.microsoft.datawrangler.viewer.v0+json": {
       "columns": [
        {
         "name": "index",
         "rawType": "int64",
         "type": "integer"
        },
        {
         "name": "Detail level",
         "rawType": "object",
         "type": "string"
        },
        {
         "name": "Claim",
         "rawType": "object",
         "type": "string"
        },
        {
         "name": "Soft/hard",
         "rawType": "object",
         "type": "string"
        },
        {
         "name": "Color",
         "rawType": "object",
         "type": "string"
        },
        {
         "name": "Annotater",
         "rawType": "object",
         "type": "string"
        }
       ],
       "conversionMethod": "pd.DataFrame",
       "ref": "5913a3f3-2751-4f06-a4c7-77d378387e77",
       "rows": [
        [
         "0",
         "High",
         "Excited to apply for position",
         "Soft",
         "Orange",
         "aksv"
        ],
        [
         "1",
         "High",
         "Studying Data Science at the IT University",
         "Hard",
         "Green",
         "aksv"
        ],
        [
         "2",
         "High",
         "Eager to apply analytical and technical skills",
         "Soft",
         "Orange",
         "aksv"
        ],
        [
         "3",
         "High",
         "1.5 years as student data analyst in the medical industry",
         "Hard",
         "Green",
         "aksv"
        ],
        [
         "4",
         "High",
         "Strong skills in Python",
         "Hard",
         "Green",
         "aksv"
        ]
       ],
       "shape": {
        "columns": 5,
        "rows": 5
       }
      },
      "text/html": [
       "<div>\n",
       "<style scoped>\n",
       "    .dataframe tbody tr th:only-of-type {\n",
       "        vertical-align: middle;\n",
       "    }\n",
       "\n",
       "    .dataframe tbody tr th {\n",
       "        vertical-align: top;\n",
       "    }\n",
       "\n",
       "    .dataframe thead th {\n",
       "        text-align: right;\n",
       "    }\n",
       "</style>\n",
       "<table border=\"1\" class=\"dataframe\">\n",
       "  <thead>\n",
       "    <tr style=\"text-align: right;\">\n",
       "      <th></th>\n",
       "      <th>Detail level</th>\n",
       "      <th>Claim</th>\n",
       "      <th>Soft/hard</th>\n",
       "      <th>Color</th>\n",
       "      <th>Annotater</th>\n",
       "    </tr>\n",
       "  </thead>\n",
       "  <tbody>\n",
       "    <tr>\n",
       "      <th>0</th>\n",
       "      <td>High</td>\n",
       "      <td>Excited to apply for position</td>\n",
       "      <td>Soft</td>\n",
       "      <td>Orange</td>\n",
       "      <td>aksv</td>\n",
       "    </tr>\n",
       "    <tr>\n",
       "      <th>1</th>\n",
       "      <td>High</td>\n",
       "      <td>Studying Data Science at the IT University</td>\n",
       "      <td>Hard</td>\n",
       "      <td>Green</td>\n",
       "      <td>aksv</td>\n",
       "    </tr>\n",
       "    <tr>\n",
       "      <th>2</th>\n",
       "      <td>High</td>\n",
       "      <td>Eager to apply analytical and technical skills</td>\n",
       "      <td>Soft</td>\n",
       "      <td>Orange</td>\n",
       "      <td>aksv</td>\n",
       "    </tr>\n",
       "    <tr>\n",
       "      <th>3</th>\n",
       "      <td>High</td>\n",
       "      <td>1.5 years as student data analyst in the medic...</td>\n",
       "      <td>Hard</td>\n",
       "      <td>Green</td>\n",
       "      <td>aksv</td>\n",
       "    </tr>\n",
       "    <tr>\n",
       "      <th>4</th>\n",
       "      <td>High</td>\n",
       "      <td>Strong skills in Python</td>\n",
       "      <td>Hard</td>\n",
       "      <td>Green</td>\n",
       "      <td>aksv</td>\n",
       "    </tr>\n",
       "  </tbody>\n",
       "</table>\n",
       "</div>"
      ],
      "text/plain": [
       "  Detail level                                              Claim Soft/hard  \\\n",
       "0         High                      Excited to apply for position      Soft   \n",
       "1         High         Studying Data Science at the IT University      Hard   \n",
       "2         High     Eager to apply analytical and technical skills      Soft   \n",
       "3         High  1.5 years as student data analyst in the medic...      Hard   \n",
       "4         High                            Strong skills in Python      Hard   \n",
       "\n",
       "    Color Annotater  \n",
       "0  Orange      aksv  \n",
       "1   Green      aksv  \n",
       "2  Orange      aksv  \n",
       "3   Green      aksv  \n",
       "4   Green      aksv  "
      ]
     },
     "execution_count": 2,
     "metadata": {},
     "output_type": "execute_result"
    }
   ],
   "source": [
    "claim_df = pd.read_csv(\"claims.csv\")\n",
    "claim_df.head()"
   ]
  },
  {
   "cell_type": "markdown",
   "id": "6c1e1354",
   "metadata": {},
   "source": [
    "Number of claims for each detail level:"
   ]
  },
  {
   "cell_type": "code",
   "execution_count": 3,
   "id": "deb28c77",
   "metadata": {},
   "outputs": [
    {
     "data": {
      "text/plain": [
       "Detail level\n",
       "High      87\n",
       "Low       80\n",
       "Medium    75\n",
       "Name: count, dtype: int64"
      ]
     },
     "execution_count": 3,
     "metadata": {},
     "output_type": "execute_result"
    }
   ],
   "source": [
    "claim_df[\"Detail level\"].value_counts()"
   ]
  },
  {
   "cell_type": "markdown",
   "id": "f62eb3c2",
   "metadata": {},
   "source": [
    "Number of claims for each type of claim (soft/hard):"
   ]
  },
  {
   "cell_type": "code",
   "execution_count": 4,
   "id": "92ba0a12",
   "metadata": {},
   "outputs": [
    {
     "data": {
      "text/plain": [
       "Soft/hard\n",
       "Soft    198\n",
       "Hard    105\n",
       "Name: count, dtype: int64"
      ]
     },
     "execution_count": 4,
     "metadata": {},
     "output_type": "execute_result"
    }
   ],
   "source": [
    "claim_df[\"Soft/hard\"].value_counts()"
   ]
  },
  {
   "cell_type": "markdown",
   "id": "64b97fe2",
   "metadata": {},
   "source": [
    "Number of claims per combination of detail level and claim type (soft/hard):"
   ]
  },
  {
   "cell_type": "code",
   "execution_count": 7,
   "id": "3303317d",
   "metadata": {},
   "outputs": [
    {
     "data": {
      "text/plain": [
       "level_type\n",
       "Low Soft       59\n",
       "Medium Soft    48\n",
       "High Soft      45\n",
       "High Hard      36\n",
       "Medium Hard    23\n",
       "Low Hard       18\n",
       "Name: count, dtype: int64"
      ]
     },
     "execution_count": 7,
     "metadata": {},
     "output_type": "execute_result"
    }
   ],
   "source": [
    "claim_df[\"level_type\"] = claim_df[\"Detail level\"] + \" \" + claim_df[\"Soft/hard\"]\n",
    "claim_df[\"level_type\"].value_counts()"
   ]
  },
  {
   "cell_type": "markdown",
   "id": "71189a2a",
   "metadata": {},
   "source": [
    "Number of claims per annotator:"
   ]
  },
  {
   "cell_type": "code",
   "execution_count": 6,
   "id": "d363cdcb",
   "metadata": {},
   "outputs": [
    {
     "data": {
      "text/plain": [
       "Annotater\n",
       "idwe    83\n",
       "aksv    81\n",
       "swae    76\n",
       "bhei    65\n",
       "Name: count, dtype: int64"
      ]
     },
     "execution_count": 6,
     "metadata": {},
     "output_type": "execute_result"
    }
   ],
   "source": [
    "claim_df[\"Annotater\"].value_counts()"
   ]
  },
  {
   "cell_type": "markdown",
   "id": "0d4e2f95",
   "metadata": {},
   "source": [
    "#### Analyzing the contents of the claims"
   ]
  },
  {
   "cell_type": "code",
   "execution_count": null,
   "id": "93d816fb",
   "metadata": {},
   "outputs": [],
   "source": [
    "# function to stem and tokenize text\n",
    "def stem_and_tokenize(text):\n",
    "    stemmer = PorterStemmer()\n",
    "    words = text.split(\" \")  # Tokenize the text\n",
    "    stemmed_tokens = [stemmer.stem(word.lower()) for word in words]  # Lemmatize each token\n",
    "    return stemmed_tokens"
   ]
  },
  {
   "cell_type": "code",
   "execution_count": 75,
   "id": "3dc70043",
   "metadata": {},
   "outputs": [],
   "source": [
    "def count_stem_freqs(df, text_col, top_n):\n",
    "    # tokenize and stem the \"Claim\" column\n",
    "    df[\"Stemmed_Claims\"] = df[f\"{text_col}\"].apply(lambda x: stem_and_tokenize(x))\n",
    "\n",
    "    # flatten the list of stemmed words\n",
    "    all_stemmed_words = [word for tokens in df['Stemmed_Claims'] for word in tokens]\n",
    "\n",
    "    # removing stop words from the list of all stemmed words\n",
    "    stop_words = set(stopwords.words('english'))\n",
    "    filtered_words = [word for word in all_stemmed_words if word.lower() not in stop_words]\n",
    "\n",
    "    # counting the occurence of each word\n",
    "    word_counts = Counter(filtered_words)\n",
    "\n",
    "    # sorting dict and returning top n words by frequency\n",
    "    top_n = dict(sorted(word_counts.items(), key=lambda item: item[1], reverse=True)[:top_n])\n",
    "\n",
    "    return top_n"
   ]
  },
  {
   "cell_type": "code",
   "execution_count": 76,
   "id": "0dc2f793",
   "metadata": {},
   "outputs": [
    {
     "data": {
      "text/plain": [
       "{'skill': 60,\n",
       " 'experi': 55,\n",
       " 'data': 53,\n",
       " 'eager': 46,\n",
       " 'contribut': 31,\n",
       " 'appli': 30,\n",
       " 'strong': 29,\n",
       " 'team': 28,\n",
       " 'excit': 21,\n",
       " 'student': 21}"
      ]
     },
     "execution_count": 76,
     "metadata": {},
     "output_type": "execute_result"
    }
   ],
   "source": [
    "count_stem_freqs(claim_df, \"Claim\", 10)"
   ]
  },
  {
   "cell_type": "markdown",
   "id": "c7586837",
   "metadata": {},
   "source": [
    "Top 10 words for each level of detail:"
   ]
  },
  {
   "cell_type": "code",
   "execution_count": null,
   "id": "82dda54d",
   "metadata": {},
   "outputs": [],
   "source": [
    "levels = [\"Low\", \"Medium\", \"Hard\"]\n",
    "\n",
    "for level in levels:\n",
    "    level_df = claim_df[claim_df[\"Detail level\"] == f\"{level}\"]\n",
    "    \n",
    "\n",
    "\n",
    "# low_df = claim_df[claim_df[\"Detail level\"] == \"Low\"]\n",
    "# medium_df = claim_df[claim_df[\"Detail level\"] == \"Medium\"]\n",
    "# high_df = claim_df[claim_df[\"Detail level\"] == \"High\"]\n",
    "\n"
   ]
  }
 ],
 "metadata": {
  "kernelspec": {
   "display_name": "LSDA",
   "language": "python",
   "name": "python3"
  },
  "language_info": {
   "codemirror_mode": {
    "name": "ipython",
    "version": 3
   },
   "file_extension": ".py",
   "mimetype": "text/x-python",
   "name": "python",
   "nbconvert_exporter": "python",
   "pygments_lexer": "ipython3",
   "version": "3.11.9"
  }
 },
 "nbformat": 4,
 "nbformat_minor": 5
}
